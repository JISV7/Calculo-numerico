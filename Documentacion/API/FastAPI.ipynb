{
 "cells": [
  {
   "cell_type": "markdown",
   "id": "44a6d678-a0bf-4f60-b215-93a37eed94e4",
   "metadata": {},
   "source": [
    "### Paso 1: Instalamos FastAPI y Uvicorn"
   ]
  },
  {
   "cell_type": "code",
   "execution_count": null,
   "id": "2b345665-3a30-44c0-97d2-e7c9f0fc4227",
   "metadata": {},
   "outputs": [],
   "source": [
    "# Primero, necesitamos instalar las herramientas necesarias. Abrimos una terminal y escribimos:\n",
    "\n",
    "$ pip install fastapi"
   ]
  },
  {
   "cell_type": "markdown",
   "id": "df9904c0-eaac-4adf-98e8-be9506273f08",
   "metadata": {},
   "source": [
    "Para empezar a crear nuestra API, necesitamos instalar dos herramientas importantes:\n",
    "\n",
    "* FastAPI: Es un framework (conjunto de herramientas y reglas) para crear APIs en Python de manera rápida y eficiente.\n",
    "\n",
    "* Uvicorn: Es un servidor que se encarga de ejecutar la API y permitir que los clientes (como navegadores o aplicaciones) se conecten a ella."
   ]
  },
  {
   "cell_type": "markdown",
   "id": "d128336b-8237-4a9e-b9b8-4a0b556e653c",
   "metadata": {},
   "source": [
    "### Paso 2: Creamos nuestro primer archivo de API"
   ]
  },
  {
   "cell_type": "code",
   "execution_count": null,
   "id": "ac7434aa-0e63-4973-b56a-5ba080eec595",
   "metadata": {},
   "outputs": [],
   "source": [
    "# Ahora creamos un archivo llamado `main.py` y escribimos el siguiente código:\n",
    "\n",
    "from fastapi import FastAPI\n",
    "\n",
    "app = FastAPI()\n",
    "\n",
    "@app.get(\"/\")\n",
    "async def root():\n",
    "    return {\"mensaje\": \"¡Hola, mundo!\"}"
   ]
  },
  {
   "cell_type": "markdown",
   "id": "c08f695c-c4b3-46d4-bb6a-12030350aad7",
   "metadata": {},
   "source": [
    "Una API (Interfaz de Programación de Aplicaciones) es un puente que permite que diferentes programas se comuniquen entre sí. En este caso, crearemos una que devolverá un mensaje cuando alguien la visite.\n",
    "\n",
    "* FastAPI(): Es la base de nuestra aplicación, nos permite definir las rutas y manejar las solicitudes.\n",
    "\n",
    "* @app.get(\"/\"): Este decorador indica que la función debajo de él responderá cuando alguien visite la URL principal (/).\n",
    "\n",
    "* def leer_raiz(): Es la función que se ejecutará cuando la API reciba una solicitud en la ruta /.\n",
    "\n",
    "* return {\"mensaje\": \"¡Hola, mundo!\"}: Devuelve una respuesta en formato JSON, que es un formato de texto estructurado que usan las APIs."
   ]
  },
  {
   "cell_type": "markdown",
   "id": "ea63901c-7f9e-4030-8737-dacf121e61bb",
   "metadata": {},
   "source": [
    "### Paso 3: Ejecutamos la API"
   ]
  },
  {
   "cell_type": "code",
   "execution_count": null,
   "id": "401d1d15-ed20-4b85-a228-db6575ce5c60",
   "metadata": {},
   "outputs": [],
   "source": [
    "# Para ver nuestra API en acción, escribimos en la terminal:\n",
    "\n",
    "$ uvicorn main:app --reload"
   ]
  },
  {
   "cell_type": "markdown",
   "id": "47f973ee-11c6-476c-89e9-81984ab7bedc",
   "metadata": {},
   "source": [
    "* main: Es el nombre del archivo donde está nuestra API (main.py).\n",
    "\n",
    "* app: Es la variable donde almacenamos nuestra aplicación (app = FastAPI()).\n",
    "\n",
    "* --reload: Permite que la API se actualice automáticamente cuando cambiamos el código.\n",
    "\n",
    "Cuando ejecutamos este comando, Uvicorn inicia un servidor en nuestra computadora."
   ]
  },
  {
   "cell_type": "markdown",
   "id": "ea9bc88a-0ada-4aac-a537-0f8d4dbfe8d9",
   "metadata": {},
   "source": [
    "### Paso 4: Probamos la API"
   ]
  },
  {
   "cell_type": "code",
   "execution_count": null,
   "id": "9d771815-9da6-4a0c-8b31-b66956bfe1ec",
   "metadata": {},
   "outputs": [],
   "source": [
    "# Abrimos nuestro navegador y vamos a:\n",
    "# http://127.0.0.1:8000\n",
    "\n",
    "# También podemos ver la documentación automática en:\n",
    "# http://127.0.0.1:8000/docs\n",
    "\n",
    "### ¡Listo! Ahora ya tenemos nuestra primera API con FastAPI 🎉"
   ]
  },
  {
   "cell_type": "markdown",
   "id": "47341b17-5b78-487a-8026-2e0235e55e62",
   "metadata": {},
   "source": [
    "Una vez que la API está en ejecución, podemos probarla de dos formas:\n",
    "\n",
    "Desde el navegador:\n",
    "\n",
    "Si desde un navegador visitamos:\n",
    "👉 http://127.0.0.1:8000\n",
    "Deberíamos ver la respuesta {\"mensaje\": \"¡Hola, mundo!\"} en la pantalla.\n",
    "\n",
    "Desde la documentación automática de FastAPI:\n",
    "Visitamos:\n",
    "👉 http://127.0.0.1:8000/docs\n",
    "Aquí veremos una interfaz gráfica donde podemos probar la API sin escribir código."
   ]
  }
 ],
 "metadata": {
  "kernelspec": {
   "display_name": "Python 3 (ipykernel)",
   "language": "python",
   "name": "python3"
  },
  "language_info": {
   "codemirror_mode": {
    "name": "ipython",
    "version": 3
   },
   "file_extension": ".py",
   "mimetype": "text/x-python",
   "name": "python",
   "nbconvert_exporter": "python",
   "pygments_lexer": "ipython3",
   "version": "3.12.8"
  }
 },
 "nbformat": 4,
 "nbformat_minor": 5
}
