{
 "cells": [
  {
   "cell_type": "markdown",
   "id": "30a16f75-7a59-4f2d-9710-edd50e9ac98f",
   "metadata": {},
   "source": [
    "# Sobre Julia\n",
    "### Que es Julia?\n",
    "Julia es un lenguaje de programación nuevo (2012) que ha ganado mucha popularidad en los últimos años, especialmente en el ámbito científico y de análisis de datos. Su creación responde a una necesidad de combinar las mejores características de diferentes lenguajes y abordar algunas de las limitaciones de los existentes.\n",
    "\n",
    "### Por que Julia?\n",
    "* Equilibrio: Existe dos extremos de lenguajes de programacion, lenguajes de alto nivel (como Python o MATLAB) de sintaxis sencilla excelentes para crear scripts y explorar ideas, y en el otro extremo tenemos lenguajes de bajo nivel (como C o LISP) para obtener el maximo rendimiento y eficiencia en cálculos intensivos o grandes volumenes de datos. Julia buscaba ofrecer una solucion a este problema al ofrecer un lenguaje que fuera fácil de usar y con un buen redimiento.\n",
    "\n",
    "* Rendimiento: Julia fue diseñado desde el comienzo para ser rápido. Utiliza un compilador justo a tiempo (JIT) para optimizar el código de manera eficiente, alcanzando una velocidad mucho mas cercana a C que Python.\n",
    "\n",
    "* Dinamismo: A diferencia de muchos lenguajes de bajo nivel, Julia es un lenguaje dinámico, lo que significa que es opcional declarar los tipos de las variables con anticipación. Esto facilita la escritura de código.\n",
    "\n",
    "* Interoperabilidad: Julia puede llamar a código escrito en otros lenguajes como C, Python o Fortran, lo que permite aprovechar las bibliotecas de otros lenguajes."
   ]
  },
  {
   "cell_type": "markdown",
   "id": "01d286f3-db0c-45e7-b62d-096857d30eec",
   "metadata": {},
   "source": [
    "# Variables"
   ]
  },
  {
   "cell_type": "code",
   "execution_count": 24,
   "id": "94ba1944-ee68-4bbd-9e1a-790080af9123",
   "metadata": {},
   "outputs": [
    {
     "name": "stdout",
     "output_type": "stream",
     "text": [
      "hellohellobye\n",
      "bye\n"
     ]
    }
   ],
   "source": [
    "# Declaración sin especificar tipo:\n",
    "nombre = \"Jose\"\n",
    "x = 7\n",
    "y = 7.324\n",
    "falso = false\n",
    "\n",
    "# Declaración con tipo explícito:\n",
    "apellido::String = \"SZ\"\n",
    "a::Int64 = 7\n",
    "b::Float32 = 7.324\n",
    "opcion::Bool= false\n",
    "\n",
    "# Uso de print y println\n",
    "print(\"hello\")\n",
    "print(\"hello\")\n",
    "println(\"bye\")\n",
    "println(\"bye\")"
   ]
  },
  {
   "cell_type": "markdown",
   "id": "93c98521-d6da-415a-8936-feb9dc09ee63",
   "metadata": {},
   "source": [
    "# Operaciones Aritméticas\n",
    "Julia ofrece una amplia gama de operaciones aritméticas para realizar cálculos matemáticos con sus tipos de datos numéricos. Las principales operaciones aritméticas que nos podemos querer utilizar al trabajar con Julia son:\n",
    "\n",
    "Suma (+): Suma dos operandos.\n",
    "Resta (-): Resta el segundo operando del primero.\n",
    "Multiplicación (*): Multiplica dos operandos.\n",
    "División (/): Divide el primer operando por el segundo.\n",
    "Exponente (^): Eleva el primer operando a la potencia del segundo.\n",
    "Módulo (%): Obtiene el residuo de la división del primer operando por el segundo."
   ]
  },
  {
   "cell_type": "code",
   "execution_count": 25,
   "id": "54f4b5f0-c868-4bf3-b6d6-5765ea7c9780",
   "metadata": {},
   "outputs": [
    {
     "name": "stdout",
     "output_type": "stream",
     "text": [
      "9\n",
      "2\n",
      "35\n",
      "5.0\n",
      "5\n",
      "32\n",
      "2\n"
     ]
    }
   ],
   "source": [
    "#Ejemplos de uso para las operaciones aritméticas básicas.\n",
    "\n",
    "# Suma\n",
    "suma = 4 + 5\n",
    "println(suma)\n",
    "\n",
    "# Resta\n",
    "resta = 10 - 8\n",
    "println(resta)\n",
    "\n",
    "# Multiplicación\n",
    "multi = 7 * 5\n",
    "println(multi)\n",
    "\n",
    "# División flotante\n",
    "divisionf = 25 / 5\n",
    "println(divisionf)\n",
    "\n",
    "# División entera\n",
    "divisione = div(25, 5)\n",
    "println(divisione)\n",
    "\n",
    "# Potencia\n",
    "expo = 2 ^ 5\n",
    "println(expo)\n",
    "\n",
    "# Modulo\n",
    "residuo = 11 % 3\n",
    "println(residuo)"
   ]
  },
  {
   "cell_type": "markdown",
   "id": "16e024e2-50d2-4b41-a714-2f667f6a7394",
   "metadata": {},
   "source": [
    "# Operadores Booleanos\n",
    "Los operadores booleanos son herramientas utilizadas para el control del flujo de ejecución de un programa o evaluar expresiones lógicas para determinar si son verdaderas o falsas.\n",
    "\n",
    "Operadores Lógicos: evaluán si es verdadero o falso alguna expresión booleana\n",
    "* Y (&&): Devuelve true solo si ambas expresiones son true.\n",
    "* O (||): Devuelve true si al menos una de las expresiones es true.\n",
    "* Not (!): Niega el valor de la expresión que le sigue.\n",
    "\n",
    "\n",
    "Operadores Relacionales: comparan valores de distintos tipos\n",
    "* Igual (==): Verifica si dos valores son iguales.\n",
    "* Distinto (!=): Verifica si un valor es distinto de otro.\n",
    "* Menor que (<): Verifica si un valor es menor que otro.\n",
    "* Menor o igual que (<=): Verifica si un valor es menor o igual que otro.\n",
    "* Mayor que (>): Verifica si un valor es mayor que otro.\n",
    "* Mayor o igual que (>=): Verifica si un valor es mayor o igual que otro."
   ]
  },
  {
   "cell_type": "code",
   "execution_count": 26,
   "id": "91028e6f-6c78-48df-b13a-976a8fed26c7",
   "metadata": {},
   "outputs": [
    {
     "name": "stdout",
     "output_type": "stream",
     "text": [
      "Resultado: false\n",
      "Resultado: true\n",
      "Es 2 mayor que 1?: true\n",
      "Es 2 menor que 1?: false\n",
      "Es x igual a y?: true\n"
     ]
    }
   ],
   "source": [
    "# Ejemplos de Operadores Booleanos\n",
    "\n",
    "#Lógicos\n",
    "\n",
    "# Ejemplo de verificacion \"Y\" y \"O\" de dos valores de tipo Bool\n",
    "usuario= true\n",
    "contra= false\n",
    "\n",
    "# Verificacion 1\n",
    "verificacion= usuario && contra\n",
    "#Convertimos el valor en string para evitar errores al imprimir\n",
    "println(\"Resultado: $verificacion\") \n",
    "\n",
    "# Verificacion 2\n",
    "verificacion2= usuario || contra\n",
    "#Convertimos el valor en string para evitar errores al imprimir\n",
    "println(\"Resultado: $verificacion2\")\n",
    "\n",
    "# Se usa el $var para interpolar en una cadena\n",
    "\n",
    "#Relacionales\n",
    "\n",
    "# Comprobamos si 2 es mayor que 1\n",
    "comprobar = 2>1\n",
    "println(\"Es 2 mayor que 1?: $comprobar\")\n",
    "\n",
    "# Ahora comprobramos si 2 es menor que 1\n",
    "comprobar = 2<1\n",
    "println(\"Es 2 menor que 1?: $comprobar\")\n",
    "\n",
    "#Verificamos si dos valores son iguales\n",
    "x = 2\n",
    "y = 2\n",
    "\n",
    "es_igual= x==y\n",
    "println(\"Es x igual a y?: $es_igual\")"
   ]
  },
  {
   "cell_type": "markdown",
   "id": "e23a281c-a461-46c4-95f0-e67cd3280bbb",
   "metadata": {},
   "source": [
    "# Ciclos\n"
   ]
  },
  {
   "cell_type": "code",
   "execution_count": 27,
   "id": "7af97018-9f88-4809-9742-0c85b3aae23d",
   "metadata": {},
   "outputs": [
    {
     "name": "stdout",
     "output_type": "stream",
     "text": [
      "1\n",
      "3\n",
      "5\n",
      "7\n",
      "9\n",
      "0\n",
      "1\n",
      "2\n",
      "3\n",
      "4\n"
     ]
    }
   ],
   "source": [
    "# Empieza en 1 incrementa 2 unidades hasta llegar a 10\n",
    "for i in 1:2:10\n",
    "    println(i)\n",
    "end\n",
    "\n",
    "# El while se ejecuta si la condicion es verdadera\n",
    "# La variable controladora del ciclo debe estar definida\n",
    "j = 0\n",
    "while j < 5\n",
    "    println(j)\n",
    "    global j += 1\n",
    "end"
   ]
  },
  {
   "cell_type": "markdown",
   "id": "437290a6-016a-47ef-959a-3c56ea553769",
   "metadata": {},
   "source": [
    "# Estructuras de datos"
   ]
  },
  {
   "cell_type": "code",
   "execution_count": 28,
   "id": "003a9398-fb42-41b1-951e-f0575d1d0909",
   "metadata": {},
   "outputs": [
    {
     "name": "stdout",
     "output_type": "stream",
     "text": [
      "[1 2 3; 4 5 6]\n",
      "6\n",
      "[1 4; 2 5; 3 6]\n",
      "[14 32; 32 77]\n",
      "Alfreo\n",
      "Juan\n",
      "Set([3])\n"
     ]
    }
   ],
   "source": [
    "# Un vector es una secuencia ordenada de elementos del mismo tipo. Es similar a una lista en Java.\n",
    "# Una matriz es una colección bidimensional de elementos del mismo tipo, organizados en filas y columnas.\n",
    "\n",
    "# Creando una matriz 2x3\n",
    "matriz = [1 2 3; 4 5 6]\n",
    "println(matriz)\n",
    "\n",
    "# Accediendo al elemento en la segunda fila, tercera columna\n",
    "elemento = matriz[2, 3]\n",
    "println(elemento)\n",
    "\n",
    "# Transpuesta de una matriz\n",
    "transpuesta = matriz'\n",
    "println(transpuesta)\n",
    "\n",
    "# Multiplicación de matrices\n",
    "producto = matriz * matriz'\n",
    "println(producto)\n",
    "\n",
    "# Una tupla es una secuencia inmutable de elementos de diferentes tipos. A diferencia de los vectores, no se pueden modificar una vez creadas.\n",
    "\n",
    "# Creando una tupla\n",
    "tupla = (1, \"hola\", 3.14)\n",
    "\n",
    "# Un diccionario es una colección de pares clave-valor, donde cada clave es única. Es similar a un mapa en otros lenguajes.\n",
    "\n",
    "# Creando un diccionario\n",
    "diccionario = Dict(\"nombre\" => \"Alfreo\", \"edad\" => 20)\n",
    "\n",
    "# Accediendo al valor asociado a la clave \"nombre\"\n",
    "nombre = diccionario[\"nombre\"]\n",
    "println(nombre)\n",
    "\n",
    "# Un diccionario es una colección de pares clave-valor, donde cada clave es única.\n",
    "\n",
    "# Creando un diccionario\n",
    "diccionario = Dict(\"nombre\" => \"Juan\", \"edad\" => 30)\n",
    "\n",
    "# Accediendo al valor asociado a la clave \"nombre\"\n",
    "nombre = diccionario[\"nombre\"]\n",
    "println(nombre)\n",
    "\n",
    "# Un set es una colección desordenada de elementos únicos.\n",
    "\n",
    "# Creando un set\n",
    "conjunto = Set([1, 2, 2, 3, 2])  # El elemento 2 aparece una sola vez\n",
    "\n",
    "\"\"\"Operaciones\"\"\"\n",
    "\n",
    "# Unión de conjuntos\n",
    "conjunto1 = Set([1, 2, 3])\n",
    "conjunto2 = Set([3, 4, 5])\n",
    "union(conjunto1, conjunto2)\n",
    "\n",
    "# Intersección de conjuntos\n",
    "println(intersect(conjunto1, conjunto2))"
   ]
  },
  {
   "cell_type": "markdown",
   "id": "208842d5-ba53-42db-9cd3-02ae0b547f1e",
   "metadata": {},
   "source": [
    "# Funciones\n",
    "Las funciones son bloques de código que pueden ser reutilizados.\n",
    "\n",
    "Una función se define con la palabra clave function seguido del nombre de la función, los parámetros de entrada entre paréntesis seguido por el cuerpo de la función (identado)."
   ]
  },
  {
   "cell_type": "code",
   "execution_count": 33,
   "id": "58c550e4-4177-4896-83e8-988abfd55e56",
   "metadata": {},
   "outputs": [
    {
     "name": "stdout",
     "output_type": "stream",
     "text": [
      "El resultado de la suma es: 7\n"
     ]
    }
   ],
   "source": [
    "# Definir la función suma\n",
    "function add(a, b)\n",
    "    return a + b\n",
    "end\n",
    "\n",
    "# Usar la función suma\n",
    "resultado = add(2, 5)\n",
    "println(\"El resultado de la suma es: $resultado\")"
   ]
  }
 ],
 "metadata": {
  "kernelspec": {
   "display_name": "Julia 1.11.3",
   "language": "julia",
   "name": "julia-1.11"
  },
  "language_info": {
   "file_extension": ".jl",
   "mimetype": "application/julia",
   "name": "julia",
   "version": "1.11.3"
  }
 },
 "nbformat": 4,
 "nbformat_minor": 5
}
