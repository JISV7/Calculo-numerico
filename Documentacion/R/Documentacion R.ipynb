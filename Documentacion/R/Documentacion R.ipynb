{
 "cells": [
  {
   "cell_type": "markdown",
   "id": "30a16f75-7a59-4f2d-9710-edd50e9ac98f",
   "metadata": {},
   "source": [
    "# Sobre R\n",
    "\n",
    "### ¿Qué es R?  \n",
    "R es un lenguaje de programación y entorno de software especializado en análisis estadístico, ciencia de datos y visualización gráfica. Creado en la década de 1990, ha sido ampliamente adoptado en la academia, la investigación y la industria debido a su flexibilidad y la gran cantidad de paquetes disponibles.\n",
    "\n",
    "### ¿Por qué R?  \n",
    "\n",
    "* **Especialización en estadística y ciencia de datos:** R está diseñado específicamente para análisis estadístico y modelado de datos, lo que lo convierte en una opción ideal para científicos de datos y analistas.  \n",
    "\n",
    "* **Gran cantidad de paquetes y comunidad activa:** R cuenta con una vasta colección de paquetes (como `ggplot2` para visualización, `dplyr` para manipulación de datos y `caret` para aprendizaje automático) que facilitan el análisis de datos. Además, su comunidad activa constantemente desarrolla y mejora nuevas herramientas.  \n",
    "\n",
    "* **Visualización de datos poderosa:** Con bibliotecas como `ggplot2` y `shiny`, R permite crear gráficos detallados y aplicaciones interactivas sin necesidad de herramientas adicionales.  \n",
    "\n",
    "* **Interoperabilidad:** R puede integrarse con otros lenguajes como Python, C y SQL, permitiendo un flujo de trabajo flexible para distintos tipos de proyectos.  \n",
    "\n",
    "* **Lenguaje interpretado y dinámico:** R permite escribir y ejecutar código sin necesidad de compilación, lo que facilita la experimentación y exploración de datos de manera interactiva.  \n",
    "\n",
    "Si buscas un lenguaje potente para estadística, ciencia de datos y visualización, R es una excelente opción."
   ]
  },
  {
   "cell_type": "markdown",
   "id": "01d286f3-db0c-45e7-b62d-096857d30eec",
   "metadata": {},
   "source": [
    "# Variables"
   ]
  },
  {
   "cell_type": "code",
   "execution_count": 46,
   "id": "94ba1944-ee68-4bbd-9e1a-790080af9123",
   "metadata": {
    "vscode": {
     "languageId": "r"
    }
   },
   "outputs": [
    {
     "name": "stdout",
     "output_type": "stream",
     "text": [
      "[1] \"Con class se puede verificar el tipo de una variable\"\n"
     ]
    },
    {
     "data": {
      "text/html": [
       "'character'"
      ],
      "text/latex": [
       "'character'"
      ],
      "text/markdown": [
       "'character'"
      ],
      "text/plain": [
       "[1] \"character\""
      ]
     },
     "metadata": {},
     "output_type": "display_data"
    },
    {
     "data": {
      "text/html": [
       "'numeric'"
      ],
      "text/latex": [
       "'numeric'"
      ],
      "text/markdown": [
       "'numeric'"
      ],
      "text/plain": [
       "[1] \"numeric\""
      ]
     },
     "metadata": {},
     "output_type": "display_data"
    },
    {
     "data": {
      "text/html": [
       "'numeric'"
      ],
      "text/latex": [
       "'numeric'"
      ],
      "text/markdown": [
       "'numeric'"
      ],
      "text/plain": [
       "[1] \"numeric\""
      ]
     },
     "metadata": {},
     "output_type": "display_data"
    },
    {
     "data": {
      "text/html": [
       "'logical'"
      ],
      "text/latex": [
       "'logical'"
      ],
      "text/markdown": [
       "'logical'"
      ],
      "text/plain": [
       "[1] \"logical\""
      ]
     },
     "metadata": {},
     "output_type": "display_data"
    },
    {
     "name": "stdout",
     "output_type": "stream",
     "text": [
      "\n",
      "[1] \"hello\"\n",
      "[1] \"hello\"\n",
      "byebye\n",
      "what\n"
     ]
    }
   ],
   "source": [
    "# Declaración sin especificar tipo:\n",
    "nombre <- \"Jose\"\n",
    "x <- 7\n",
    "y <- 7.324\n",
    "falso <- FALSE\n",
    "\n",
    "print(\"Con class se puede verificar el tipo de una variable\")\n",
    "class(nombre)\n",
    "class(x)\n",
    "class(y)\n",
    "class(falso)\n",
    "\n",
    "cat(\"\\n\")\n",
    "\n",
    "# R es un lenguaje dinámicamente tipado, por lo que no es necesario especificar tipos explícitamente.\n",
    "# Sin embargo, podemos forzar el tipo usando as.*() cuando sea necesario.\n",
    "\n",
    "apellido <- as.character(\"SZ\")\n",
    "a <- as.integer(7)\n",
    "b <- as.numeric(7.324)  # En R, los números decimales por defecto son de tipo double, pero sigue funcionando para float\n",
    "opcion <- as.logical(FALSE)\n",
    "\n",
    "# Uso de print y cat para impresión\n",
    "print(\"hello\")\n",
    "print(\"hello\")\n",
    "cat(\"bye\")  # cat NO añade salto de línea automáticamente en cada impresión\n",
    "cat(\"bye\\n\")\n",
    "cat(\"what\\n\")"
   ]
  },
  {
   "cell_type": "markdown",
   "id": "93c98521-d6da-415a-8936-feb9dc09ee63",
   "metadata": {},
   "source": [
    "# Operaciones Aritméticas en R\n",
    "R ofrece una variedad de operaciones aritméticas para realizar cálculos matemáticos con sus tipos de datos numéricos. Las principales operaciones aritméticas en R son:\n",
    "\n",
    "Suma (+): Suma dos operandos.\n",
    "Resta (-): Resta el segundo operando del primero.\n",
    "Multiplicación (*): Multiplica dos operandos.\n",
    "División (/): Divide el primer operando por el segundo.\n",
    "Exponente (^ o **): Eleva el primer operando a la potencia del segundo.\n",
    "Módulo (%%): Obtiene el residuo de la división del primer operando por el segundo.\n",
    "División entera (%/%): Devuelve el cociente entero de la división."
   ]
  },
  {
   "cell_type": "code",
   "execution_count": 47,
   "id": "54f4b5f0-c868-4bf3-b6d6-5765ea7c9780",
   "metadata": {
    "vscode": {
     "languageId": "r"
    }
   },
   "outputs": [
    {
     "name": "stdout",
     "output_type": "stream",
     "text": [
      "[1] 9\n",
      "[1] 2\n",
      "[1] 35\n",
      "[1] 5\n",
      "[1] 5\n",
      "[1] 32\n",
      "[1] 2\n"
     ]
    }
   ],
   "source": [
    "# Suma\n",
    "suma <- 4 + 5\n",
    "print(suma)\n",
    "\n",
    "# Resta\n",
    "resta <- 10 - 8\n",
    "print(resta)\n",
    "\n",
    "# Multiplicación\n",
    "multi <- 7 * 5\n",
    "print(multi)\n",
    "\n",
    "# División flotante\n",
    "divisionf <- 25 / 5\n",
    "print(divisionf)\n",
    "\n",
    "# División entera\n",
    "divisione <- 25 %/% 5\n",
    "print(divisione)\n",
    "\n",
    "# Potencia\n",
    "expo <- 2 ^ 5  # También se puede usar 2 ** 5\n",
    "print(expo)\n",
    "\n",
    "# Módulo (residuo)\n",
    "residuo <- 11 %% 3\n",
    "print(residuo)"
   ]
  },
  {
   "cell_type": "markdown",
   "id": "16e024e2-50d2-4b41-a714-2f667f6a7394",
   "metadata": {},
   "source": [
    "# Operadores Booleanos en R  \n",
    "\n",
    "Los operadores booleanos son herramientas utilizadas para el control del flujo de ejecución de un programa o evaluar expresiones lógicas para determinar si son verdaderas o falsas.  \n",
    "\n",
    "### **Operadores Lógicos**  \n",
    "Evalúan si una expresión booleana es verdadera o falsa:  \n",
    "\n",
    "* **Y (`&&`)**: Devuelve `TRUE` solo si ambas expresiones son `TRUE`.  \n",
    "* **O (`||`)**: Devuelve `TRUE` si al menos una de las expresiones es `TRUE`.  \n",
    "* **Not (`!`)**: Niega el valor de la expresión que le sigue.  \n",
    "\n",
    "### **Operadores Relacionales**  \n",
    "Comparan valores de distintos tipos:  \n",
    "\n",
    "* **Igual (`==`)**: Verifica si dos valores son iguales.  \n",
    "* **Distinto (`!=`)**: Verifica si un valor es distinto de otro.  \n",
    "* **Menor que (`<`)**: Verifica si un valor es menor que otro.  \n",
    "* **Menor o igual que (`<=`)**: Verifica si un valor es menor o igual que otro.  \n",
    "* **Mayor que (`>`)**: Verifica si un valor es mayor que otro.  \n",
    "* **Mayor o igual que (`>=`)**: Verifica si un valor es mayor o igual que otro."
   ]
  },
  {
   "cell_type": "code",
   "execution_count": 48,
   "id": "91028e6f-6c78-48df-b13a-976a8fed26c7",
   "metadata": {
    "vscode": {
     "languageId": "r"
    }
   },
   "outputs": [
    {
     "name": "stdout",
     "output_type": "stream",
     "text": [
      "[1] \"Resultado: FALSE\"\n",
      "[1] \"Resultado: TRUE\"\n",
      "[1] \"Es 2 mayor que 1?: TRUE\"\n",
      "[1] \"Es 2 menor que 1?: FALSE\"\n",
      "[1] \"Es x igual a y?: TRUE\"\n"
     ]
    }
   ],
   "source": [
    "# Ejemplos de Operadores Booleanos en R\n",
    "\n",
    "# Lógicos\n",
    "\n",
    "# Ejemplo de verificación \"Y\" y \"O\" de dos valores de tipo lógico\n",
    "usuario <- TRUE\n",
    "contra <- FALSE\n",
    "\n",
    "# Verificación 1 (AND lógico)\n",
    "verificacion <- usuario && contra\n",
    "# Imprimimos el resultado\n",
    "print(paste(\"Resultado:\", verificacion))\n",
    "\n",
    "# Verificación 2 (OR lógico)\n",
    "verificacion2 <- usuario || contra\n",
    "# Imprimimos el resultado\n",
    "print(paste(\"Resultado:\", verificacion2))\n",
    "\n",
    "# Relacionales\n",
    "\n",
    "# Comprobamos si 2 es mayor que 1\n",
    "comprobar <- 2 > 1\n",
    "print(paste(\"Es 2 mayor que 1?:\", comprobar))\n",
    "\n",
    "# Ahora comprobamos si 2 es menor que 1\n",
    "comprobar <- 2 < 1\n",
    "print(paste(\"Es 2 menor que 1?:\", comprobar))\n",
    "\n",
    "# Verificamos si dos valores son iguales\n",
    "x <- 2\n",
    "y <- 2\n",
    "\n",
    "es_igual <- x == y\n",
    "print(paste(\"Es x igual a y?:\", es_igual))"
   ]
  },
  {
   "cell_type": "markdown",
   "id": "e23a281c-a461-46c4-95f0-e67cd3280bbb",
   "metadata": {},
   "source": [
    "# Ciclos\n"
   ]
  },
  {
   "cell_type": "code",
   "execution_count": 49,
   "id": "7af97018-9f88-4809-9742-0c85b3aae23d",
   "metadata": {
    "vscode": {
     "languageId": "r"
    }
   },
   "outputs": [
    {
     "name": "stdout",
     "output_type": "stream",
     "text": [
      "[1] 1\n",
      "[1] 3\n",
      "[1] 5\n",
      "[1] 7\n",
      "[1] 9\n",
      "[1] 0\n",
      "[1] 1\n",
      "[1] 2\n",
      "[1] 3\n",
      "[1] 4\n"
     ]
    }
   ],
   "source": [
    "# Empieza en 1, incrementa de 2 en 2 hasta llegar a 10\n",
    "for (i in seq(1, 10, by = 2)) {\n",
    "  print(i)\n",
    "}\n",
    "\n",
    "# El while se ejecuta si la condición es verdadera\n",
    "# La variable controladora del ciclo debe estar definida\n",
    "j <- 0\n",
    "while (j < 5) {\n",
    "  print(j)\n",
    "  j <- j + 1\n",
    "}"
   ]
  },
  {
   "cell_type": "markdown",
   "id": "437290a6-016a-47ef-959a-3c56ea553769",
   "metadata": {},
   "source": [
    "# Estructuras de datos"
   ]
  },
  {
   "cell_type": "code",
   "execution_count": 50,
   "id": "003a9398-fb42-41b1-951e-f0575d1d0909",
   "metadata": {
    "vscode": {
     "languageId": "r"
    }
   },
   "outputs": [
    {
     "name": "stdout",
     "output_type": "stream",
     "text": [
      "[1] \"Creando una matriz 2x3\"\n",
      "     [,1] [,2] [,3]\n",
      "[1,]    1    2    3\n",
      "[2,]    4    5    6\n",
      "\n",
      "[1] \"Accediendo al elemento en la segunda fila, tercera columna\"\n",
      "[1] 6\n",
      "\n",
      "[1] \"Obtener una matriz transpuesta\"\n",
      "     [,1] [,2]\n",
      "[1,]    1    4\n",
      "[2,]    2    5\n",
      "[3,]    3    6\n",
      "\n",
      "[1] \"Multiplicacion de matrices\"\n",
      "     [,1] [,2]\n",
      "[1,]   14   32\n",
      "[2,]   32   77\n"
     ]
    }
   ],
   "source": [
    "# Un vector es una secuencia ordenada de elementos del mismo tipo. Es similar a una lista en Java.\n",
    "# Una matriz es una colección bidimensional de elementos del mismo tipo, organizados en filas y columnas.\n",
    "\n",
    "# Creando una matriz 2x3\n",
    "print(\"Creando una matriz 2x3\")\n",
    "matriz <- matrix(c(1, 2, 3, 4, 5, 6), nrow = 2, byrow = TRUE)\n",
    "print(matriz)\n",
    "cat(\"\\n\")\n",
    "# Accediendo al elemento en la segunda fila, tercera columna\n",
    "print(\"Accediendo al elemento en la segunda fila, tercera columna\")\n",
    "elemento <- matriz[2, 3]\n",
    "print(elemento)\n",
    "cat(\"\\n\")\n",
    "# Transpuesta de una matriz\n",
    "print(\"Obtener una matriz transpuesta\")\n",
    "transpuesta <- t(matriz)\n",
    "print(transpuesta)\n",
    "cat(\"\\n\")\n",
    "# Multiplicación de matrices\n",
    "print(\"Multiplicacion de matrices\")\n",
    "producto <- matriz %*% t(matriz)\n",
    "print(producto)"
   ]
  },
  {
   "cell_type": "markdown",
   "id": "208842d5-ba53-42db-9cd3-02ae0b547f1e",
   "metadata": {},
   "source": [
    "# Funciones\n",
    "Las funciones son bloques de código que pueden ser reutilizados.\n",
    "\n",
    "Una función se define con la palabra clave function seguido del nombre de la función, los parámetros de entrada entre paréntesis seguido por el cuerpo de la función (identado)."
   ]
  },
  {
   "cell_type": "code",
   "execution_count": 51,
   "id": "58c550e4-4177-4896-83e8-988abfd55e56",
   "metadata": {
    "vscode": {
     "languageId": "r"
    }
   },
   "outputs": [
    {
     "name": "stdout",
     "output_type": "stream",
     "text": [
      "[1] \"El resultado de la suma es: 7\"\n"
     ]
    }
   ],
   "source": [
    "# Definir la función suma\n",
    "add <- function(a, b) {\n",
    "  return(a + b)\n",
    "}\n",
    "\n",
    "# Usar la función suma\n",
    "resultado <- add(2, 5)\n",
    "print(paste(\"El resultado de la suma es:\", resultado))"
   ]
  },
  {
   "cell_type": "markdown",
   "id": "99ac9eff-2df9-4ef9-a8f7-12c42cccf2db",
   "metadata": {},
   "source": [
    "# Graficas en R"
   ]
  },
  {
   "cell_type": "code",
   "execution_count": 52,
   "id": "05e52ef5-c3f7-4747-bcea-f1f503aa67f0",
   "metadata": {},
   "outputs": [
    {
     "data": {
      "image/png": "[encoded data removed]",
      "text/plain": [
       "Plot with title \"Gráfico del sin(x)\""
      ]
     },
     "metadata": {
      "image/png": {
       "height": 420,
       "width": 420
      }
     },
     "output_type": "display_data"
    }
   ],
   "source": [
    "# Creamos dos vectores de datos\n",
    "x <- seq(0, 2 * pi, length.out = 100)  # 100 puntos de 0 a 2*pi\n",
    "y <- sin(x)                           # Calculamos el seno de cada punto\n",
    "\n",
    "# Usamos plot() para crear un gráfico de líneas\n",
    "plot(x, y,\n",
    "     type = \"l\",         # \"l\" indica que se conectan los puntos con líneas\n",
    "     col = \"red\",       # Color de la línea\n",
    "     lwd = 3,            # Grosor de la línea\n",
    "     xlab = \"x (radianes)\",  # Etiqueta para el eje x\n",
    "     ylab = \"sin(x)\",         # Etiqueta para el eje y\n",
    "     main = \"Gráfico del sin(x)\")  # Título del gráfico"
   ]
  },
  {
   "cell_type": "code",
   "execution_count": 53,
   "id": "ee82af61-a912-422c-96e0-46da5a6b6c4d",
   "metadata": {},
   "outputs": [
    {
     "data": {
      "image/png": "[encoded data removed]",
      "text/plain": [
       "Plot with title \"Simulacion Histograma\""
      ]
     },
     "metadata": {
      "image/png": {
       "height": 420,
       "width": 420
      }
     },
     "output_type": "display_data"
    }
   ],
   "source": [
    "# Fijamos la semilla para reproducibilidad\n",
    "set.seed(123)\n",
    "\n",
    "# Generamos 1000 datos aleatorios de una distribución normal (media = 50, desviación estándar = 10)\n",
    "datos <- rnorm(1000, mean = 50, sd = 10)\n",
    "\n",
    "# Creamos un histograma básico con colores personalizados y la opción probability=TRUE para obtener densidades\n",
    "hist(datos,\n",
    "     probability = TRUE,                # Muestra densidades en lugar de frecuencias absolutas\n",
    "     main = \"Simulacion Histograma\", \n",
    "     xlab = \"Valores\", \n",
    "     col = \"lightblue\", \n",
    "     border = \"black\")\n",
    "\n",
    "# Agregamos una línea de densidad en rojo\n",
    "lines(density(datos), col = \"red\", lwd = 2)"
   ]
  },
  {
   "cell_type": "markdown",
   "id": "63671abc-c675-45d5-b766-014e134b84a5",
   "metadata": {},
   "source": [
    "# Tests Unitarios\n",
    "Primero, se debe instalar el paquete testthat (si el usuario no lo tienes instalado)\n",
    "\n",
    "En una venta de la consola se debe ejecutar el comando `R`\n",
    "\n",
    "Para luego ejecutar el comando `install.packages(\"testthat\")`, instalando el paquete."
   ]
  },
  {
   "cell_type": "code",
   "execution_count": 54,
   "id": "2521f66f-c180-43a5-987b-7ab7447126e8",
   "metadata": {},
   "outputs": [
    {
     "name": "stdout",
     "output_type": "stream",
     "text": [
      "\u001b[32mTest passed\u001b[39m 😀\n",
      "\u001b[32mTest passed\u001b[39m 🎊\n",
      "\u001b[32mTest passed\u001b[39m 😀\n",
      "\u001b[32mTest passed\u001b[39m 🥳\n",
      "── \u001b[1m\u001b[33mError\u001b[39m: La función suma NO funciona correctamente\u001b[22m ────────────────────────────────────────────────────────────────────\n",
      "Error in `a + b`: argumento no-numérico para operador binario\n",
      "\u001b[1mBacktrace:\u001b[22m\n",
      "\u001b[90m    \u001b[39m▆\n",
      "\u001b[90m 1. \u001b[39m├─\u001b[1mtestthat\u001b[22m::expect_equal(suma(\"b\", 4))\n",
      "\u001b[90m 2. \u001b[39m│ └─testthat::quasi_label(enquo(object), label, arg = \"object\")\n",
      "\u001b[90m 3. \u001b[39m│   └─\u001b[1mrlang\u001b[22m::eval_bare(expr, quo_get_env(quo))\n",
      "\u001b[90m 4. \u001b[39m└─\u001b[1mglobal\u001b[22m suma(\"b\", 4)\n",
      "\n"
     ]
    },
    {
     "ename": "ERROR",
     "evalue": "\u001b[1m\u001b[33mError\u001b[39m:\u001b[22m\n\u001b[33m!\u001b[39m Test failed\n",
     "output_type": "error",
     "traceback": [
      "\u001b[1m\u001b[33mError\u001b[39m:\u001b[22m\n\u001b[33m!\u001b[39m Test failed\nTraceback:\n",
      "1. (function () \n . expr)()",
      "2. reporter$stop_if_needed()",
      "3. abort(\"Test failed\", call = NULL)",
      "4. signal_abort(cnd, .file)",
      "5. signalCondition(cnd)"
     ]
    }
   ],
   "source": [
    "# Supongamos que tienes la siguiente función a testear:\n",
    "suma <- function(a, b) {\n",
    "  a + b\n",
    "}\n",
    "\n",
    "# Ahora, creamos algunos tests usando testthat:\n",
    "library(testthat)\n",
    "\n",
    "test_that(\"La función suma funciona correctamente\", {\n",
    "  # Test: 2 + 3 debe ser igual a 5\n",
    "  expect_equal(suma(2, 3), 5)\n",
    "})\n",
    "\n",
    "test_that(\"La función suma funciona correctamente\", {\n",
    "  # Test: La suma de números negativos\n",
    "  expect_equal(suma(-1, -1), -2)\n",
    "})\n",
    "\n",
    "test_that(\"La función suma funciona correctamente\", {\n",
    "  # Test: Sumar cero no altera el valor\n",
    "  expect_equal(suma(0, 10), 10)\n",
    "})\n",
    "\n",
    "test_that(\"La función suma funciona correctamente\", {\n",
    "  # Test: Comprobar que se genere un error si se pasan argumentos no numéricos\n",
    "  expect_error(suma(\"a\", 3))\n",
    "})\n",
    "\n",
    "test_that(\"La función suma NO funciona correctamente\", {\n",
    "  # Test: Comprobar que se genere un error si se pasan argumentos no numéricos\n",
    "  expect_equal(suma(\"b\", 4))\n",
    "})"
   ]
  },
  {
   "cell_type": "markdown",
   "id": "973732a5-64a4-41d8-a72f-3dff369d6ba1",
   "metadata": {},
   "source": [
    "# Otros\n",
    "---\n",
    "\n",
    "### POO en R\n",
    "\n",
    "- **S3:** Es el sistema más simple e informal, basado en convenciones. No tiene una declaración explícita de clases; basta con asignar un atributo \"class\" a un objeto y definir métodos genéricos que se comportan de forma diferente según la clase.\n",
    "- **S4:** Es un sistema más formal y riguroso que permite declarar clases, especificar sus slots (atributos), y definir validaciones, además de soportar herencia entre clases.\n",
    "\n",
    "---\n",
    "\n",
    "### ¿Paradigmas de programación en R?\n",
    "\n",
    "R es un lenguaje **multi-paradigma**. Entre los enfoques que admite se encuentran:\n",
    "\n",
    "- **Programación funcional:** Las funciones son ciudadanos de primera clase y es muy común escribir código de forma funcional.\n",
    "- **Programación orientada a objetos:** Mediante los sistemas S3, S4, Reference Classes y R6 se pueden aplicar conceptos de clases, objetos, herencia y polimorfismo.\n",
    "- **Programación imperativa y procedural:** También se pueden escribir scripts y programas usando estructuras de control, asignaciones y procedimientos tradicionales.\n",
    "\n",
    "---\n",
    "\n",
    "### ¿Es R un lenguaje de scripting?\n",
    "\n",
    "R es considerado un **lenguaje de scripting**. Es un lenguaje interpretado que se usa ampliamente para análisis estadístico, minería de datos y generación de gráficos. Se puede ejecutar de forma interactiva en la consola, en entornos de desarrollo integrados (como RStudio) o a través de scripts almacenados en archivos con extensión `.R`.\n",
    "\n",
    "---\n",
    "\n",
    "### ¿Cómo se ejecuta un código de R?\n",
    "\n",
    "El código R puede ejecutarse de diversas maneras:\n",
    "\n",
    "- **Interactivo:** Iniciando una sesión de R en la consola o mediante un IDE como RStudio, donde se pueden ejecutar líneas o bloques de código directamente.\n",
    "- **Desde un script:** Guardando el código en un archivo con extensión `.R` y luego ejecutándolo usando la función `source(\"archivo.R\")` dentro de una sesión de R.\n",
    "- **Desde la línea de comandos:** Utilizando el comando `Rscript`. Por ejemplo:\n",
    "  - `Rscript testScript.R` ejecuta el script en la terminal.\n",
    "\n",
    "Esta flexibilidad permite que R se utilice tanto para tareas interactivas como para automatización a través de scripts."
   ]
  }
 ],
 "metadata": {
  "kernelspec": {
   "display_name": "R",
   "language": "R",
   "name": "ir"
  },
  "language_info": {
   "codemirror_mode": "r",
   "file_extension": ".r",
   "mimetype": "text/x-r-source",
   "name": "R",
   "pygments_lexer": "r",
   "version": "4.4.2"
  }
 },
 "nbformat": 4,
 "nbformat_minor": 5
}
